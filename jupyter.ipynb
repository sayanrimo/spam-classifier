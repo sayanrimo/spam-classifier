{
 "cells": [
  {
   "cell_type": "code",
   "execution_count": 19,
   "metadata": {},
   "outputs": [],
   "source": [
    "import pandas as pd\n",
    "import numpy as np\n",
    "import joblib\n",
    "from sklearn.naive_bayes import MultinomialNB\n",
    "from sklearn.linear_model import LogisticRegression\n",
    "from sklearn.metrics import accuracy_score, classification_report\n",
    "from sklearn.model_selection import train_test_split,GridSearchCV\n",
    "from sklearn.feature_extraction.text import TfidfVectorizer\n",
    "import re\n",
    "import nltk\n",
    "from nltk.corpus import stopwords"
   ]
  },
  {
   "cell_type": "code",
   "execution_count": 20,
   "metadata": {},
   "outputs": [
    {
     "name": "stderr",
     "output_type": "stream",
     "text": [
      "[nltk_data] Downloading package stopwords to\n",
      "[nltk_data]     C:\\Users\\Sayan\\AppData\\Roaming\\nltk_data...\n",
      "[nltk_data]   Package stopwords is already up-to-date!\n"
     ]
    }
   ],
   "source": [
    "# Download NLTK stopwords\n",
    "nltk.download('stopwords')\n",
    "\n",
    "# Load the dataset\n",
    "df = pd.read_csv(\"spam.csv\", encoding=\"latin-1\")[['v1', 'v2']]\n",
    "df.columns = ['label', 'text']\n",
    "\n"
   ]
  },
  {
   "cell_type": "code",
   "execution_count": 21,
   "metadata": {},
   "outputs": [],
   "source": [
    "# Convert labels to binary (spam = 1, ham = 0)\n",
    "df['label'] = df['label'].map({'ham': 0, 'spam': 1})\n",
    "\n"
   ]
  },
  {
   "cell_type": "code",
   "execution_count": 22,
   "metadata": {},
   "outputs": [],
   "source": [
    "# Text preprocessing function\n",
    "def clean_text(text):\n",
    "    text = text.lower()\n",
    "    text = re.sub(r'\\W', ' ', text)  # Remove special characters\n",
    "    text = re.sub(r'\\s+', ' ', text)  # Remove extra spaces\n",
    "    text = ' '.join(word for word in text.split() if word not in stopwords.words('english'))\n",
    "    return text\n",
    "\n"
   ]
  },
  {
   "cell_type": "code",
   "execution_count": 23,
   "metadata": {},
   "outputs": [],
   "source": [
    "# Apply text cleaning\n",
    "df['cleaned_text'] = df['text'].apply(clean_text)\n",
    "\n"
   ]
  },
  {
   "cell_type": "code",
   "execution_count": 24,
   "metadata": {},
   "outputs": [],
   "source": [
    "# Convert text into numerical features using TF-IDF\n",
    "vectorizer = TfidfVectorizer(max_features=5000)\n",
    "X = vectorizer.fit_transform(df['cleaned_text']).toarray()\n",
    "y = df['label'].values\n",
    "\n",
    "\n"
   ]
  },
  {
   "cell_type": "code",
   "execution_count": 25,
   "metadata": {},
   "outputs": [
    {
     "name": "stdout",
     "output_type": "stream",
     "text": [
      "Dataset Loaded & Preprocessed Successfully!\n"
     ]
    }
   ],
   "source": [
    "# Split dataset into training and testing\n",
    "X_train, X_test, y_train, y_test = train_test_split(X, y, test_size=0.2, random_state=42)\n",
    "\n",
    "print(\"Dataset Loaded & Preprocessed Successfully!\")"
   ]
  },
  {
   "cell_type": "code",
   "execution_count": 26,
   "metadata": {},
   "outputs": [
    {
     "name": "stdout",
     "output_type": "stream",
     "text": [
      "\n",
      "Naïve Bayes Best Model Performance:\n",
      "Accuracy: 0.9829596412556054\n",
      "              precision    recall  f1-score   support\n",
      "\n",
      "           0       0.99      0.99      0.99       965\n",
      "           1       0.96      0.91      0.94       150\n",
      "\n",
      "    accuracy                           0.98      1115\n",
      "   macro avg       0.97      0.95      0.96      1115\n",
      "weighted avg       0.98      0.98      0.98      1115\n",
      "\n",
      "\n",
      "Logistic Regression Best Model Performance:\n",
      "Accuracy: 0.9757847533632287\n",
      "              precision    recall  f1-score   support\n",
      "\n",
      "           0       0.97      1.00      0.99       965\n",
      "           1       0.98      0.83      0.90       150\n",
      "\n",
      "    accuracy                           0.98      1115\n",
      "   macro avg       0.98      0.92      0.94      1115\n",
      "weighted avg       0.98      0.98      0.97      1115\n",
      "\n",
      "\n",
      "Best Tuned Model Saved as 'spam_classifier.pkl'\n"
     ]
    }
   ],
   "source": [
    "# Hyperparameter tuning for Naïve Bayes\n",
    "nb_params = {'alpha': [0.1, 0.5, 1.0, 5.0, 10.0]}\n",
    "nb_model = GridSearchCV(MultinomialNB(), nb_params, cv=5, scoring='accuracy')\n",
    "nb_model.fit(X_train, y_train)\n",
    "\n",
    "# Hyperparameter tuning for Logistic Regression\n",
    "lr_params = {'C': [0.1, 1, 10, 100], 'max_iter': [100, 200, 300]}\n",
    "lr_model = GridSearchCV(LogisticRegression(), lr_params, cv=5, scoring='accuracy')\n",
    "lr_model.fit(X_train, y_train)\n",
    "\n",
    "# Evaluate the best models\n",
    "best_nb = nb_model.best_estimator_\n",
    "best_lr = lr_model.best_estimator_\n",
    "\n",
    "models = {\"Naïve Bayes\": best_nb, \"Logistic Regression\": best_lr}\n",
    "\n",
    "for name, model in models.items():\n",
    "    y_pred = model.predict(X_test)\n",
    "    print(f\"\\n{name} Best Model Performance:\")\n",
    "    print(\"Accuracy:\", accuracy_score(y_test, y_pred))\n",
    "    print(classification_report(y_test, y_pred))\n",
    "\n",
    "# Save the best model\n",
    "best_model = best_lr  # Choose Logistic Regression as the best\n",
    "joblib.dump(best_model, \"spam_classifier.pkl\")\n",
    "joblib.dump(vectorizer, \"tfidf_vectorizer.pkl\")\n",
    "\n",
    "print(\"\\nBest Tuned Model Saved as 'spam_classifier.pkl'\")\n"
   ]
  }
 ],
 "metadata": {
  "kernelspec": {
   "display_name": "Python 3",
   "language": "python",
   "name": "python3"
  },
  "language_info": {
   "codemirror_mode": {
    "name": "ipython",
    "version": 3
   },
   "file_extension": ".py",
   "mimetype": "text/x-python",
   "name": "python",
   "nbconvert_exporter": "python",
   "pygments_lexer": "ipython3",
   "version": "3.12.5"
  }
 },
 "nbformat": 4,
 "nbformat_minor": 2
}
